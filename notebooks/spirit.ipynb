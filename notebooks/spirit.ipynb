{
 "cells": [
  {
   "cell_type": "code",
   "execution_count": null,
   "metadata": {},
   "outputs": [],
   "source": [
    "import numpy as np\n",
    "import pandas as pd\n",
    "import matplotlib.pyplot as plt\n",
    "from sklearn.decomposition import PCA\n",
    "import time"
   ]
  },
  {
   "cell_type": "markdown",
   "metadata": {},
   "source": [
    "# Principle Components Analysis (PCA)"
   ]
  },
  {
   "cell_type": "markdown",
   "metadata": {},
   "source": [
    "## サンプルデータの生成\n",
    "- 3次元、長さ1000の時系列データ"
   ]
  },
  {
   "cell_type": "code",
   "execution_count": null,
   "metadata": {},
   "outputs": [],
   "source": [
    "# サンプルの時系列データを生成\n",
    "np.random.seed(0)\n",
    "size = 1000\n",
    "time_series_data = pd.DataFrame({\n",
    "    'time': pd.date_range(start='1/1/2020', periods=size, freq='D'),\n",
    "    'feature1': np.random.randn(size).cumsum(),\n",
    "    'feature2': np.random.randn(size).cumsum(),\n",
    "    'feature3': np.random.randn(size).cumsum()\n",
    "})\n",
    "\n",
    "X = time_series_data[['feature1', 'feature2', 'feature3']].values\n",
    "print(f\"X: {X.shape}\")"
   ]
  },
  {
   "cell_type": "markdown",
   "metadata": {},
   "source": [
    "### 散布図行列\n",
    "- 各要素がどの程度相関しているかを確認するために散布図行列を作成する\n",
    "- 対角成分については、ヒストグラムになっている\n",
    "- 今回のデータについては、x1とx3に正の相関がみられる"
   ]
  },
  {
   "cell_type": "code",
   "execution_count": null,
   "metadata": {},
   "outputs": [],
   "source": [
    "pd.plotting.scatter_matrix(time_series_data)\n",
    "plt.show()"
   ]
  },
  {
   "cell_type": "markdown",
   "metadata": {},
   "source": [
    "### 相関行列"
   ]
  },
  {
   "cell_type": "code",
   "execution_count": null,
   "metadata": {},
   "outputs": [],
   "source": [
    "time_series_data.drop('time', axis=1).corr().style.background_gradient(axis=None, cmap=\"jet\")"
   ]
  },
  {
   "cell_type": "markdown",
   "metadata": {},
   "source": [
    "## Batch process\n",
    "- サンプルサイズ全て用いて PCA を行う"
   ]
  },
  {
   "cell_type": "code",
   "execution_count": null,
   "metadata": {},
   "outputs": [],
   "source": [
    "n_components = 2\n",
    "batch_pca = PCA(n_components=n_components)\n",
    "principal_components = batch_pca.fit_transform(X)\n",
    "\n",
    "# 結果をデータフレームに変換\n",
    "principal_df = pd.DataFrame(data=principal_components, columns=[f'principal_component_{i + 1}' for i in range(n_components)])"
   ]
  },
  {
   "cell_type": "code",
   "execution_count": null,
   "metadata": {},
   "outputs": [],
   "source": [
    "# 再構成されたデータを取得\n",
    "X_reconstructed = batch_pca.inverse_transform(principal_components)\n",
    "\n",
    "# 再構成されたデータをデータフレームに変換\n",
    "reconstructed_df = pd.DataFrame(data=X_reconstructed, columns=['reconstructed_feature1', 'reconstructed_feature2', 'reconstructed_feature3'])\n",
    "\n",
    "# 時間軸を追加\n",
    "reconstructed_df['time'] = time_series_data['time']\n",
    "\n",
    "# 主成分のプロット\n",
    "plt.figure(figsize=(7, 6))\n",
    "\n",
    "plt.subplot(2, 1, 1)\n",
    "plt.plot(principal_df['principal_component_1'], label='Principal Component 1')\n",
    "plt.plot(principal_df['principal_component_2'], label='Principal Component 2')\n",
    "plt.xlabel('Time')\n",
    "plt.ylabel('Principal Components')\n",
    "plt.title('Principal Component Analysis of Time Series Data')\n",
    "plt.legend()\n",
    "\n",
    "# 再構成されたデータのプロット\n",
    "plt.subplot(2, 1, 2)\n",
    "plt.plot(X, c='gray', alpha=0.5, linewidth=2)\n",
    "plt.plot(reconstructed_df['reconstructed_feature1'], label='Reconstructed Feature 1')\n",
    "plt.plot(reconstructed_df['reconstructed_feature2'], label='Reconstructed Feature 2')\n",
    "plt.plot(reconstructed_df['reconstructed_feature3'], label='Reconstructed Feature 3')\n",
    "plt.xlabel('Time')\n",
    "plt.ylabel('Reconstructed Features')\n",
    "plt.title('Reconstructed Time Series Data from PCA')\n",
    "plt.legend()\n",
    "\n",
    "plt.tight_layout()\n",
    "plt.show()"
   ]
  },
  {
   "cell_type": "markdown",
   "metadata": {},
   "source": [
    "## Stream process (SPIRIT, Papadimitriou et al., VLDB2005)\n",
    "- 最初の batch_size (<< サンプルサイズ) 分だけのデータを用いて PCA を行う\n",
    "- その後、新たなデータに対して、固定行列サイズである W の更新を行う\n",
    "- [Streaming pattern discovery in multiple time-series](https://kilthub.cmu.edu/articles/journal_contribution/Streaming_Pattern_Discovery_in_Multiple_Time-Series/6609941)"
   ]
  },
  {
   "cell_type": "code",
   "execution_count": null,
   "metadata": {},
   "outputs": [],
   "source": [
    "class SPIRIT:\n",
    "    def __init__(self, forgetting_factor=0.96, verbose=True):\n",
    "        self.forgetting_factor = forgetting_factor\n",
    "        self.verbose = verbose\n",
    "\n",
    "    def batch(self, X, n_components=None, threshold=0.9):\n",
    "        pca = PCA()\n",
    "        _Z = pca.fit_transform(X)\n",
    "        self.n = X.shape[0]\n",
    "        if n_components is not None:\n",
    "            self.k = n_components\n",
    "        else:\n",
    "            self.k = np.argmax(pca.explained_variance_ratio_.cumsum() > threshold) + 1\n",
    "        self.Z = _Z[:, :self.k].T\n",
    "        self.W = pca.components_[:self.k]\n",
    "        self.mean = pca.mean_\n",
    "        _forgettings = np.power(self.forgetting_factor, np.arange(self.n - 1, -1, -1))\n",
    "        self.energy = np.sum(np.square(self.W @ X.T) * _forgettings, axis=1)\n",
    "\n",
    "        if self.verbose:\n",
    "            print(f\"size: {X.shape[0]}\")\n",
    "            print(f\"Z (principal components): {self.Z.shape}\")\n",
    "            print(f\"W (principal directions): {self.W.shape}\")\n",
    "\n",
    "        self.reconstruction = self.Z.T @ self.W + self.mean\n",
    "\n",
    "    def update(self, new_data):\n",
    "        new_data_centered = (new_data - self.mean)\n",
    "\n",
    "        new_Z = np.zeros((self.k, 1))\n",
    "        for i in range(self.k):\n",
    "            new_z = self.W[i] @ new_data_centered\n",
    "            self.energy[i] = self.forgetting_factor * self.energy[i] + np.square(new_z)\n",
    "            err = new_data_centered - new_z * self.W[i]\n",
    "            self.W[i] += new_z * err / self.energy[i]\n",
    "            new_data_centered -= new_z * self.W[i]\n",
    "            new_Z[i] = new_z\n",
    "        self.Z = np.concatenate([self.Z, new_Z], axis=1)\n",
    "        self.reconstruction = np.concatenate([self.reconstruction, (new_Z.T @ self.W + self.mean)], axis=0)\n",
    "\n",
    "        self.mean = (self.n * self.mean + new_data) / (self.n + 1)\n",
    "        self.n += 1"
   ]
  },
  {
   "cell_type": "code",
   "execution_count": null,
   "metadata": {},
   "outputs": [],
   "source": [
    "batch_size = 50\n",
    "\n",
    "spirit = SPIRIT(forgetting_factor=0.97)\n",
    "spirit.batch(X=X[:batch_size], n_components=2)\n",
    "spirit_time = list()\n",
    "\n",
    "for t in range(batch_size, X.shape[0]):\n",
    "    tic = time.time()\n",
    "    spirit.update(X[t])\n",
    "    spirit_time.append(time.time() - tic)"
   ]
  },
  {
   "cell_type": "code",
   "execution_count": null,
   "metadata": {},
   "outputs": [],
   "source": [
    "# 主成分のプロット\n",
    "plt.figure(figsize=(7, 6))\n",
    "\n",
    "plt.subplot(2, 1, 1)\n",
    "plt.plot(spirit.Z[0], label='Principal Component 1')\n",
    "plt.plot(spirit.Z[1], label='Principal Component 2')\n",
    "plt.xlabel('Time')\n",
    "plt.ylabel('Principal Components')\n",
    "plt.title('Principal Component Analysis of Time Series Data')\n",
    "plt.legend()\n",
    "\n",
    "# 再構成されたデータのプロット\n",
    "plt.subplot(2, 1, 2)\n",
    "plt.plot(X, c='gray', alpha=0.5, linewidth=2)\n",
    "plt.plot(spirit.reconstruction[:, 0], label='Reconstructed Feature 1')\n",
    "plt.plot(spirit.reconstruction[:, 1], label='Reconstructed Feature 2')\n",
    "plt.plot(spirit.reconstruction[:, 2], label='Reconstructed Feature 3')\n",
    "plt.xlabel('Time')\n",
    "plt.ylabel('Reconstructed Features')\n",
    "plt.title('Reconstructed Time Series Data from PCA')\n",
    "plt.legend()\n",
    "\n",
    "plt.tight_layout()\n",
    "plt.show()"
   ]
  },
  {
   "cell_type": "markdown",
   "metadata": {},
   "source": [
    "## Summary"
   ]
  },
  {
   "cell_type": "code",
   "execution_count": null,
   "metadata": {},
   "outputs": [],
   "source": [
    "print(\"===== Batch PCA =====\")\n",
    "print(f\"matrix W:\\n{batch_pca.components_}\")\n",
    "print(f\"mean:\\n{batch_pca.mean_}\")\n",
    "print()\n",
    "print(\"===== Track PCA =====\")\n",
    "print(f\"matrix W:\\n{spirit.W}\")\n",
    "print(f\"mean:\\n{spirit.mean}\")"
   ]
  },
  {
   "cell_type": "markdown",
   "metadata": {},
   "source": [
    "### Principal Components"
   ]
  },
  {
   "cell_type": "code",
   "execution_count": null,
   "metadata": {},
   "outputs": [],
   "source": [
    "plt.plot(principal_components[:, 0], label=\"batch-1\")\n",
    "plt.plot(principal_components[:, 1], label=\"batch-2\")\n",
    "plt.plot(spirit.Z[0], label=\"SPIRIT-1\")\n",
    "plt.plot(spirit.Z[1], label=\"SPIRIT-2\")\n",
    "\n",
    "plt.axvline(x=batch_size, color='gray', linestyle='--')\n",
    "\n",
    "plt.title(f\"BatchSize={batch_size}\")\n",
    "plt.legend()"
   ]
  },
  {
   "cell_type": "markdown",
   "metadata": {},
   "source": [
    "### Scalability"
   ]
  },
  {
   "cell_type": "code",
   "execution_count": null,
   "metadata": {},
   "outputs": [],
   "source": [
    "# サンプルの時系列データを生成\n",
    "np.random.seed(0)\n",
    "size = 10000\n",
    "time_series_data = pd.DataFrame({\n",
    "    'time': pd.date_range(start='1/1/2020', periods=size, freq='D'),\n",
    "    'feature1': np.random.randn(size).cumsum(),\n",
    "    'feature2': np.random.randn(size).cumsum(),\n",
    "    'feature3': np.random.randn(size).cumsum()\n",
    "})\n",
    "\n",
    "X = time_series_data[['feature1', 'feature2', 'feature3']].values\n",
    "print(f\"X: {X.shape}\")"
   ]
  },
  {
   "cell_type": "code",
   "execution_count": null,
   "metadata": {},
   "outputs": [],
   "source": [
    "n_components = 2\n",
    "batch_pca = PCA(n_components=n_components)\n",
    "batch_time = [0] * X.shape[0]\n",
    "for t in range(batch_size, X.shape[0]):\n",
    "    tic = time.time()\n",
    "    principal_components = batch_pca.fit_transform(X[:t])\n",
    "    batch_time[t] += time.time() - tic"
   ]
  },
  {
   "cell_type": "code",
   "execution_count": null,
   "metadata": {},
   "outputs": [],
   "source": [
    "batch_size = 50\n",
    "spirit_time = [0] * X.shape[0]\n",
    "for _ in range(30):\n",
    "    spirit = SPIRIT(forgetting_factor=0.97, verbose=False)\n",
    "    spirit.batch(X=X[:batch_size], n_components=2)\n",
    "\n",
    "    for t in range(batch_size, X.shape[0]):\n",
    "        tic = time.time()\n",
    "        spirit.update(X[t])\n",
    "        spirit_time[t] += time.time() - tic\n",
    "spirit_time = np.array(spirit_time) / 30"
   ]
  },
  {
   "cell_type": "code",
   "execution_count": null,
   "metadata": {},
   "outputs": [],
   "source": [
    "plt.plot(np.arange(0, size, 10), batch_time[::10], label=\"Batch PCA\", marker='x')\n",
    "plt.plot(np.arange(0, size, 10), spirit_time[::10], label=\"SPIRIT\", marker='x')\n",
    "\n",
    "plt.xlabel('Time')\n",
    "plt.ylabel('Wall clock time (s)')\n",
    "\n",
    "plt.yscale('log')\n",
    "plt.xlim(batch_size + 10, X.shape[0])\n",
    "\n",
    "plt.legend()"
   ]
  }
 ],
 "metadata": {
  "kernelspec": {
   "display_name": ".venv",
   "language": "python",
   "name": "python3"
  },
  "language_info": {
   "codemirror_mode": {
    "name": "ipython",
    "version": 3
   },
   "file_extension": ".py",
   "mimetype": "text/x-python",
   "name": "python",
   "nbconvert_exporter": "python",
   "pygments_lexer": "ipython3",
   "version": "3.10.12"
  }
 },
 "nbformat": 4,
 "nbformat_minor": 2
}
